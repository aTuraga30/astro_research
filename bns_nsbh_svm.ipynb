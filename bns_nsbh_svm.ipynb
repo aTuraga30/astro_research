{
 "cells": [
  {
   "cell_type": "code",
   "execution_count": 72,
   "id": "88ccd49d-93ae-4cf0-a1b7-f6bc0389db39",
   "metadata": {},
   "outputs": [
    {
     "name": "stdout",
     "output_type": "stream",
     "text": [
      "Finished importing\n"
     ]
    }
   ],
   "source": [
    "import os\n",
    "import h5py\n",
    "from tqdm import tqdm\n",
    "import numpy as np\n",
    "import tensorflow as tf\n",
    "from sklearn.metrics import confusion_matrix, classification_report, f1_score\n",
    "from sklearn.model_selection import train_test_split\n",
    "from sklearn import preprocessing\n",
    "from sklearn import svm\n",
    "import plot_confusion_matrix as pcm\n",
    "import matplotlib.pylab as plt\n",
    "import scipy.stats as st\n",
    "from scipy.fftpack import fft, fftfreq \n",
    "from scipy.signal import argrelextrema\n",
    "import operator\n",
    "from sklearn.metrics import ConfusionMatrixDisplay\n",
    "\n",
    "print(\"Finished importing\")\n"
   ]
  },
  {
   "cell_type": "code",
   "execution_count": 64,
   "id": "6a3df14a-0673-4237-bdf8-b6384a98b456",
   "metadata": {
    "scrolled": true
   },
   "outputs": [
    {
     "name": "stdout",
     "output_type": "stream",
     "text": [
      "\n",
      "Finished pre-processing the data\n"
     ]
    }
   ],
   "source": [
    "# Data preprocessing - making sure that each of the files has a 0 or 1 corresponding \n",
    "# to whether or not we have a bns or a nsbh or not.\n",
    "\n",
    "bns = h5py.File('comb1_bns.hdf5','r')\n",
    "nsb = h5py.File('comb5_nsbh.hdf5','r')\n",
    "\n",
    "eos = 'APR4'\n",
    "band = 'mAB_R'\n",
    "show_plots = False\n",
    "\n",
    "# Gets the specific EOS and band from the bns and nsb files\n",
    "bns_eos_band = bns[eos][band][0:439] # shape -> (439, 400)\n",
    "nsb_eos_band = nsb[eos][band] # shape -> (439, 400)\n",
    "time_band = bns[eos]['time'] # shape -> (400,)\n",
    "\n",
    "# Converts all of the arrays into numpy arrays\n",
    "bns_eos_band = np.array(bns_eos_band)\n",
    "nsb_eos_band = np.array(nsb_eos_band)\n",
    "time_band = np.array(time_band)\n",
    "\n",
    "# Creates all of the bns/nsb labels, in the form of a 0 or 1\n",
    "bns_label = np.zeros(len(bns_eos_band))\n",
    "nsb_label = np.ones(len(nsb_eos_band))\n",
    "\n",
    "# A plot of both the BNS and NSBH light curves\n",
    "if show_plots:\n",
    "    for i in tqdm(range(len(bns_eos_band))):\n",
    "        plt.plot(time_band / (24 * 3600), bns_eos_band[i], 'r-')\n",
    "    \n",
    "    plt.gca().invert_yaxis()\n",
    "    plt.xlabel(\"Time (Days)\")\n",
    "    plt.ylabel(\"Brightness (mAB)\")\n",
    "    plt.title(\"Light Curve for BNS\")\n",
    "    plt.show()\n",
    "    \n",
    "    for i in tqdm(range(len(nsb_eos_band))):\n",
    "        plt.plot(time_band / (24 * 3600), nsb_eos_band[i], 'b-')\n",
    "    \n",
    "    plt.gca().invert_yaxis()\n",
    "    plt.xlabel(\"Time (Days)\")\n",
    "    plt.ylabel(\"Brightness (mAB)\")\n",
    "    plt.title(\"Light Curve for NSBH\")\n",
    "    plt.show()\n",
    "\n",
    "all_data = np.concatenate([bns_eos_band, nsb_eos_band], axis=0)\n",
    "all_labels = np.concatenate([bns_label, nsb_label], axis=0)\n",
    "\n",
    "X_train, X_test, y_train, y_test = train_test_split(all_data, all_labels, test_size=0.2, random_state=42)\n",
    "label_names = [\"BNS\", \"NSB\"]\n",
    "\n",
    "print()\n",
    "print(\"Finished pre-processing the data\")\n"
   ]
  },
  {
   "cell_type": "code",
   "execution_count": 65,
   "id": "44aca2ce-39dc-42c6-8402-1d6c814269fa",
   "metadata": {},
   "outputs": [],
   "source": [
    "def stat_area_features(x, Te=1.0):\n",
    "    mean_ts = np.mean(x, axis=1).reshape(-1,1) # mean\n",
    "    max_ts = np.amax(x, axis=1).reshape(-1,1) # max\n",
    "    min_ts = np.amin(x, axis=1).reshape(-1,1) # min\n",
    "    std_ts = np.std(x, axis=1).reshape(-1,1) # std\n",
    "    skew_ts = st.skew(x, axis=1).reshape(-1,1) # skew\n",
    "    kurtosis_ts = st.kurtosis(x, axis=1).reshape(-1,1) # kurtosis \n",
    "    iqr_ts = st.iqr(x, axis=1).reshape(-1,1) # interquartile rante\n",
    "    mad_ts = np.median(np.sort(abs(x - np.median(x, axis=1).reshape(-1,1)),\n",
    "                               axis=1), axis=1).reshape(-1,1) # median absolute deviation\n",
    "    area_ts = np.trapz(x, axis=1, dx=Te).reshape(-1,1) # area under curve\n",
    "    sq_area_ts = np.trapz(x ** 2, axis=1, dx=Te).reshape(-1,1) # area under curve ** 2\n",
    "\n",
    "    return np.concatenate((mean_ts,max_ts,min_ts,std_ts,skew_ts,kurtosis_ts,\n",
    "                           iqr_ts,mad_ts,area_ts,sq_area_ts), axis=1)\n",
    "\n",
    "def frequency_domain_features(x, Te=1.0):\n",
    "    # As the DFT coefficients and their corresponding frequencies are symetrical arrays\n",
    "    # with respect to the middle of the array we need to know if the number of readings \n",
    "    # in x is even or odd to then split the arrays...\n",
    "    if x.shape[1]%2 == 0:\n",
    "        N = int(x.shape[1]/2)\n",
    "    else:\n",
    "        N = int(x.shape[1]/2) - 1\n",
    "    xf = np.repeat(fftfreq(x.shape[1],d=Te)[:N].reshape(1,-1), x.shape[0], axis=0) # frequencies\n",
    "    dft = np.abs(fft(x, axis=1))[:,:N] # DFT coefficients   \n",
    "    \n",
    "    # statistical and area features\n",
    "    dft_features = stat_area_features(dft, Te=1.0)\n",
    "    # weighted mean frequency\n",
    "    dft_weighted_mean_f = np.average(xf, axis=1, weights=dft).reshape(-1,1)\n",
    "    # 5 first DFT coefficients \n",
    "    dft_first_coef = dft[:,:5]    \n",
    "    # 5 first local maxima of DFT coefficients and their corresponding frequencies\n",
    "    dft_max_coef = np.zeros((x.shape[0],5))\n",
    "    dft_max_coef_f = np.zeros((x.shape[0],5))\n",
    "    for row in range(x.shape[0]):\n",
    "        # finds all local maximas indexes\n",
    "        extrema_ind = argrelextrema(dft[row,:], np.greater, axis=0) \n",
    "        # makes a list of tuples (DFT_i, f_i) of all the local maxima\n",
    "        # and keeps the 5 biggest...\n",
    "        extrema_row = sorted([(dft[row,:][j],xf[row,j]) for j in extrema_ind[0]],\n",
    "                             key=operator.itemgetter(0), reverse=True)[:5] \n",
    "        for i, ext in enumerate(extrema_row):\n",
    "            dft_max_coef[row,i] = ext[0]\n",
    "            dft_max_coef_f[row,i] = ext[1]    \n",
    "    \n",
    "    return np.concatenate((dft_features,dft_weighted_mean_f,dft_first_coef,\n",
    "                           dft_max_coef,dft_max_coef_f), axis=1)\n",
    "\n",
    "def make_feature_vector(x,Te=1.0):\n",
    "    # Raw signals :  stat and area features\n",
    "    features_xt = stat_area_features(x, Te=Te)\n",
    "    \n",
    "    # Jerk signals :  stat and area features\n",
    "    features_xt_jerk = stat_area_features((x[:,1:]-x[:,:-1])/Te, Te=Te)\n",
    "    \n",
    "    # Raw signals : frequency domain features \n",
    "    features_xf = frequency_domain_features(x, Te=1/Te)\n",
    "    \n",
    "    # Jerk signals : frequency domain features \n",
    "    features_xf_jerk = frequency_domain_features((x[:,1:]-x[:,:-1])/Te, Te=1/Te)\n",
    "        \n",
    "    return np.concatenate((features_xt,\n",
    "                           features_xt_jerk,\n",
    "                           features_xf,\n",
    "                           features_xf_jerk), axis=1)\n"
   ]
  },
  {
   "cell_type": "code",
   "execution_count": 76,
   "id": "bc5e5710-f924-46ba-8fae-4ca1875f6bad",
   "metadata": {},
   "outputs": [
    {
     "name": "stdout",
     "output_type": "stream",
     "text": [
      "X_train shape : (702, 72)\n",
      "X_test shape: (176, 72)\n"
     ]
    }
   ],
   "source": [
    "X_train = make_feature_vector(X_train, Te=1/50)\n",
    "X_test = make_feature_vector(X_test, Te=1/50)\n",
    "\n",
    "print(\"X_train shape : {}\".format(X_train.shape))\n",
    "print(\"X_test shape: {}\".format(X_test.shape))"
   ]
  },
  {
   "cell_type": "code",
   "execution_count": 80,
   "id": "60d2372f-de79-4027-9d4c-9e074bb0ba55",
   "metadata": {},
   "outputs": [],
   "source": [
    "scaler = preprocessing.StandardScaler().fit(X_train)\n",
    "X_train = scaler.transform(X_train) \n",
    "X_test = scaler.transform(X_test)"
   ]
  },
  {
   "cell_type": "code",
   "execution_count": 81,
   "id": "ca06531b-9f67-4370-bd33-30afa09d9964",
   "metadata": {},
   "outputs": [
    {
     "name": "stdout",
     "output_type": "stream",
     "text": [
      "Hyperparameters optimization results:\n",
      "C: 0.1\n",
      "gamma: 0.1\n",
      "\n",
      "\n",
      "Training set report\n",
      "              precision    recall  f1-score   support\n",
      "\n",
      "         BNS       1.00      0.99      1.00       353\n",
      "         NSB       0.99      1.00      1.00       349\n",
      "\n",
      "    accuracy                           1.00       702\n",
      "   macro avg       1.00      1.00      1.00       702\n",
      "weighted avg       1.00      1.00      1.00       702\n",
      "\n",
      "Test set report\n",
      "              precision    recall  f1-score   support\n",
      "\n",
      "         BNS       1.00      1.00      1.00        86\n",
      "         NSB       1.00      1.00      1.00        90\n",
      "\n",
      "    accuracy                           1.00       176\n",
      "   macro avg       1.00      1.00      1.00       176\n",
      "weighted avg       1.00      1.00      1.00       176\n",
      "\n"
     ]
    },
    {
     "data": {
      "text/plain": [
       "<Figure size 640x480 with 0 Axes>"
      ]
     },
     "metadata": {},
     "output_type": "display_data"
    },
    {
     "data": {
      "image/png": "[encoded data removed]",
      "text/plain": [
       "<Figure size 640x480 with 2 Axes>"
      ]
     },
     "metadata": {},
     "output_type": "display_data"
    },
    {
     "data": {
      "text/plain": [
       "<Figure size 640x480 with 0 Axes>"
      ]
     },
     "metadata": {},
     "output_type": "display_data"
    },
    {
     "data": {
      "image/png": "[encoded data removed]",
      "text/plain": [
       "<Figure size 640x480 with 2 Axes>"
      ]
     },
     "metadata": {},
     "output_type": "display_data"
    }
   ],
   "source": [
    "def hyperparameters_opt_RBF(X_train, y_train, X_test, y_test, param_range_C, param_range_gamma):\n",
    "    accuracy_matrix = np.zeros((param_range_C.shape[0],param_range_gamma.shape[0]))\n",
    "    for i,C in enumerate(param_range_C):\n",
    "        for j,gamma in enumerate(param_range_gamma):\n",
    "            clf_r_l = svm.SVC(kernel='rbf', C=C, gamma=gamma)\n",
    "            clf_r_l.fit(X_train, y_train)\n",
    "            accuracy_matrix[i,j] = f1_score(y_test ,clf_r_l.predict(X_test), average='macro')\n",
    "    C_ind, gamma_ind = np.unravel_index(np.argmax(accuracy_matrix), accuracy_matrix.shape)\n",
    "\n",
    "    return param_range_C[C_ind], param_range_gamma[gamma_ind]\n",
    "\n",
    "# C and gamma test range\n",
    "param_range = np.array([0.01, 0.1, 1, 10, 100, 1000])\n",
    "# Optimizing C and gamma parameters to achieve the best f1 score \n",
    "C, gamma = hyperparameters_opt_RBF(X_train, y_train, X_test, y_test, param_range, param_range)\n",
    "\n",
    "print(\"Hyperparameters optimization results:\")\n",
    "print(\"C: {}\".format(C))\n",
    "print(\"gamma: {}\".format(gamma))\n",
    "print(\"\\n\")\n",
    "\n",
    "# Training the model with the optimized hyperparameters\n",
    "clf_r_l = svm.SVC(kernel='rbf', C=C, gamma=gamma)\n",
    "clf_r_l.fit(X_train, y_train)\n",
    "y_pred_tr = clf_r_l.predict(X_train)\n",
    "y_pred_te = clf_r_l.predict(X_test)\n",
    "\n",
    "print('Training set report')\n",
    "print(classification_report(y_train, y_pred_tr, target_names=label_names))\n",
    "print('Test set report')\n",
    "print(classification_report(y_test, y_pred_te, target_names=label_names))\n",
    "\n",
    "plt.figure(1)\n",
    "cm = confusion_matrix(y_train, y_pred_tr)\n",
    "ConfusionMatrixDisplay(confusion_matrix=cm, display_labels=label_names).plot()\n",
    "plt.title(\"Confusion Matrix\")\n",
    "plt.show()\n",
    "\n",
    "plt.figure(2)\n",
    "cm = confusion_matrix(y_test, y_pred_te)\n",
    "ConfusionMatrixDisplay(confusion_matrix=cm, display_labels=label_names).plot()\n",
    "plt.title(\"Confusion Matrix\")\n",
    "plt.show()\n",
    "\n",
    "#plt.show()"
   ]
  },
  {
   "cell_type": "code",
   "execution_count": 74,
   "id": "c5a60982-c0c6-4786-847b-1e88a7aac9b9",
   "metadata": {},
   "outputs": [
    {
     "name": "stdout",
     "output_type": "stream",
     "text": [
      "Cross-validation scores: [1. 1. 1. 1. 1.]\n",
      "Mean accuracy: 1.0\n"
     ]
    }
   ],
   "source": [
    "from sklearn.model_selection import cross_val_score\n",
    "\n",
    "scores = cross_val_score(clf_r_l, X_train, y_train, cv=5, scoring='accuracy')\n",
    "print(f\"Cross-validation scores: {scores}\")\n",
    "print(f\"Mean accuracy: {scores.mean()}\")"
   ]
  },
  {
   "cell_type": "code",
   "execution_count": 83,
   "id": "033ee300-8450-4f24-a0ae-e3572764fd70",
   "metadata": {},
   "outputs": [
    {
     "name": "stdout",
     "output_type": "stream",
     "text": [
      "Cross-validation F1 Scores with Noise: [0.98581489 0.97871912 1.         0.98571137 0.98571137]\n"
     ]
    }
   ],
   "source": [
    "import numpy as np\n",
    "\n",
    "X_train_noisy = X_train + np.random.normal(0, 0.01, X_train.shape)\n",
    "noisy_scores = cross_val_score(clf_r_l, X_train_noisy, y_train, cv=5, scoring='f1_macro')\n",
    "print(\"Cross-validation F1 Scores with Noise:\", noisy_scores)"
   ]
  },
  {
   "cell_type": "code",
   "execution_count": null,
   "id": "1ce484bf-3f7f-4c00-97c4-aede145cd821",
   "metadata": {},
   "outputs": [],
   "source": []
  }
 ],
 "metadata": {
  "kernelspec": {
   "display_name": "Python (ml_env)",
   "language": "python",
   "name": "ml_env"
  },
  "language_info": {
   "codemirror_mode": {
    "name": "ipython",
    "version": 3
   },
   "file_extension": ".py",
   "mimetype": "text/x-python",
   "name": "python",
   "nbconvert_exporter": "python",
   "pygments_lexer": "ipython3",
   "version": "3.9.20"
  }
 },
 "nbformat": 4,
 "nbformat_minor": 5
}
