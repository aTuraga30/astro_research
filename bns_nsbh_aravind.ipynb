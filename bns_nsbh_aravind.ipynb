{
 "cells": [
  {
   "cell_type": "code",
   "execution_count": 1,
   "id": "f64debce-b7c3-462f-8756-95677b5a16af",
   "metadata": {},
   "outputs": [
    {
     "name": "stdout",
     "output_type": "stream",
     "text": [
      "Finished Importing\n"
     ]
    }
   ],
   "source": [
    "import h5py\n",
    "import numpy as np\n",
    "import tensorflow as tf\n",
    "import matplotlib.pyplot as plt\n",
    "\n",
    "from tqdm import tqdm \n",
    "#from xgboost import XGBClassifier\n",
    "from sklearn.utils import resample\n",
    "from tensorflow.keras.models import Sequential\n",
    "from sklearn.ensemble import RandomForestClassifier\n",
    "from sklearn.metrics import classification_report\n",
    "from sklearn.preprocessing import StandardScaler\n",
    "from sklearn.model_selection import train_test_split\n",
    "from sklearn.utils.class_weight import compute_class_weight\n",
    "from tensorflow.keras.layers import Conv1D, MaxPooling1D, Input, LSTM, Dense, Dropout, Flatten\n",
    "\n",
    "print(\"Finished Importing\")"
   ]
  },
  {
   "cell_type": "code",
   "execution_count": 2,
   "id": "be7d3f51-fc3d-4e7f-83bb-9d2247f008a9",
   "metadata": {},
   "outputs": [],
   "source": [
    "bns = h5py.File('comb1_bns.hdf5','r')\n",
    "nsb = h5py.File('comb5_nsbh.hdf5','r')\n",
    "\n",
    "eos = 'APR4'\n",
    "band = 'mAB_R'"
   ]
  },
  {
   "cell_type": "code",
   "execution_count": 3,
   "id": "6ffac401-c0af-41bd-ac5a-b86274703b15",
   "metadata": {},
   "outputs": [
    {
     "name": "stdout",
     "output_type": "stream",
     "text": [
      "File Structure:\n",
      "labels: <class 'h5py._hl.dataset.Dataset'>\n",
      "  - Shape: (7961,)\n",
      "  - Data type: float64\n",
      "light_curves: <class 'h5py._hl.dataset.Dataset'>\n",
      "  - Shape: (7961, 2, 400)\n",
      "  - Data type: float64\n",
      "\n",
      "File Attributes:\n",
      "  BNS_class: 0\n",
      "  NSBH_class: 1\n",
      "  bands: ['mAB_band' 'time']\n",
      "  description: Light curve data for BNS and NSBH mergers, with time included\n",
      "  time_steps: 400\n",
      "Finished pre-processing the data\n"
     ]
    }
   ],
   "source": [
    "# Data preprocessing - making sure that each of the files has a 0 or 1 corresponding \n",
    "# to whether or not we have a bns or a nsbh or not.\n",
    "\n",
    "bns_eos_band = bns[eos][band] # shape -> (7522, 400), (len(bns_eos_band), len(bns[eos][band][0]))\n",
    "nsb_eos_band = nsb[eos][band] # shape -> (439, 400)\n",
    "\n",
    "bns_label = np.zeros(len(bns_eos_band))\n",
    "nsb_label = np.ones(len(nsb_eos_band))\n",
    "\n",
    "time_band = bns[eos]['time'] # shape -> (400, )\n",
    "\n",
    "all_data = np.concatenate([bns_eos_band, nsb_eos_band], axis=0)\n",
    "all_labels = np.concatenate([bns_label, nsb_label], axis=0)\n",
    "\n",
    "all_data_with_time = np.stack([all_data, np.tile(time_band, (all_data.shape[0], 1))], axis=1)  # Shape -> (7961, 2, 400)\n",
    "\n",
    "print_structure = True\n",
    "\n",
    "# Creating the dataset\n",
    "with h5py.File('light_curves_with_time.hdf5', 'w') as f:\n",
    "    # Dataset for light curve data, including time as the second \"band\"\n",
    "    f.create_dataset('light_curves', data=all_data_with_time, compression=\"gzip\", compression_opts=9)\n",
    "    \n",
    "    # Dataset for labels\n",
    "    f.create_dataset('labels', data=all_labels, compression=\"gzip\", compression_opts=9)\n",
    "    \n",
    "    # Store the time array separately as metadata if it's constant for all samples\n",
    "    # f.create_dataset('time', data=time_band, compression=\"gzip\", compression_opts=9)\n",
    "    \n",
    "    # Add metadata\n",
    "    f.attrs['description'] = \"Light curve data for BNS and NSBH mergers, with time included\"\n",
    "    f.attrs['bands'] = [\"mAB_band\", \"time\"]\n",
    "    f.attrs['time_steps'] = 400\n",
    "    f.attrs['BNS_class'] = 0  # BNS class label\n",
    "    f.attrs['NSBH_class'] = 1  # NSBH class label\n",
    "\n",
    "    f.close()\n",
    "\n",
    "def print_structure(name, obj):\n",
    "    # Prints the name and type of each item in the HDF5 file\n",
    "    print(f\"{name}: {type(obj)}\")\n",
    "    if isinstance(obj, h5py.Dataset):  # If it's a dataset, print shape and dtype\n",
    "        print(f\"  - Shape: {obj.shape}\")\n",
    "        print(f\"  - Data type: {obj.dtype}\")\n",
    "    elif isinstance(obj, h5py.Group):  # If it's a group, list the contents\n",
    "        print(f\"  - Contains: {list(obj.keys())}\")\n",
    "\n",
    "with h5py.File('light_curves_with_time.hdf5', 'r') as f:\n",
    "    print(\"File Structure:\")\n",
    "    f.visititems(print_structure)\n",
    "    \n",
    "    # Print file-level attributes\n",
    "    print(\"\\nFile Attributes:\")\n",
    "    for key, value in f.attrs.items():\n",
    "        print(f\"  {key}: {value}\")\n",
    "\n",
    "    f.close()\n",
    "\n",
    "print(\"Finished pre-processing the data\")"
   ]
  },
  {
   "cell_type": "code",
   "execution_count": 4,
   "id": "3c6b743b-7379-4d3b-8d17-fe296d0af6bc",
   "metadata": {},
   "outputs": [
    {
     "name": "stdout",
     "output_type": "stream",
     "text": [
      "File Structure:\n",
      "labels: <class 'h5py._hl.dataset.Dataset'>\n",
      "  - Shape: (7961,)\n",
      "  - Data type: float64\n",
      "light_curves: <class 'h5py._hl.dataset.Dataset'>\n",
      "  - Shape: (7961, 400)\n",
      "  - Data type: float64\n",
      "\n",
      "File Attributes:\n",
      "  BNS_class: 0\n",
      "  NSBH_class: 1\n",
      "  bands: ['mAB_band']\n",
      "  description: Light curve data for BNS and NSBH mergers, without time\n",
      "Finished pre-processing the data\n"
     ]
    }
   ],
   "source": [
    "# Data preprocessing - making sure that each of the files has a 0 or 1 corresponding \n",
    "# to whether or not we have a bns or a nsbh or not.\n",
    "\n",
    "bns_eos_band = bns[eos][band] # shape -> (7522, 400), (len(bns_eos_band), len(bns[eos][band][0]))\n",
    "nsb_eos_band = nsb[eos][band] # shape -> (439, 400)\n",
    "\n",
    "bns_label = np.zeros(len(bns_eos_band))\n",
    "nsb_label = np.ones(len(nsb_eos_band))\n",
    "\n",
    "all_data = np.concatenate([bns_eos_band, nsb_eos_band], axis=0)\n",
    "all_labels = np.concatenate([bns_label, nsb_label], axis=0)\n",
    "\n",
    "print_structure = True\n",
    "\n",
    "# Creating the dataset\n",
    "with h5py.File('light_curves_without_time.hdf5', 'w') as f:\n",
    "    # Dataset for light curve data, including time as the second \"band\"\n",
    "    f.create_dataset('light_curves', data=all_data, compression=\"gzip\", compression_opts=9)\n",
    "    \n",
    "    # Dataset for labels\n",
    "    f.create_dataset('labels', data=all_labels, compression=\"gzip\", compression_opts=9)\n",
    "    \n",
    "    # Add metadata\n",
    "    f.attrs['description'] = \"Light curve data for BNS and NSBH mergers, without time\"\n",
    "    f.attrs['bands'] = [\"mAB_band\"]\n",
    "    f.attrs['BNS_class'] = 0  # BNS class label\n",
    "    f.attrs['NSBH_class'] = 1  # NSBH class label\n",
    "\n",
    "    f.close()\n",
    "    \n",
    "\n",
    "def print_structure(name, obj):\n",
    "    # Prints the name and type of each item in the HDF5 file\n",
    "    print(f\"{name}: {type(obj)}\")\n",
    "    if isinstance(obj, h5py.Dataset):  # If it's a dataset, print shape and dtype\n",
    "        print(f\"  - Shape: {obj.shape}\")\n",
    "        print(f\"  - Data type: {obj.dtype}\")\n",
    "    elif isinstance(obj, h5py.Group):  # If it's a group, list the contents\n",
    "        print(f\"  - Contains: {list(obj.keys())}\")\n",
    "\n",
    "with h5py.File('light_curves_without_time.hdf5', 'r') as f:\n",
    "    print(\"File Structure:\")\n",
    "    f.visititems(print_structure)\n",
    "    \n",
    "    # Print file-level attributes\n",
    "    print(\"\\nFile Attributes:\")\n",
    "    for key, value in f.attrs.items():\n",
    "        print(f\"  {key}: {value}\")\n",
    "\n",
    "    f.close()\n",
    "\n",
    "print(\"Finished pre-processing the data\")"
   ]
  },
  {
   "cell_type": "markdown",
   "id": "97d96c52-a646-42c5-941e-0d893c05de3a",
   "metadata": {},
   "source": [
    "Display the equation of states:\n",
    "\n",
    "bns.keys()"
   ]
  },
  {
   "cell_type": "markdown",
   "id": "3187cac1-ae71-47fc-befb-cfb008606009",
   "metadata": {},
   "source": [
    "Corresponding to each equation of state you have a bunch of light curves"
   ]
  },
  {
   "cell_type": "markdown",
   "id": "1c11b123-1cd3-482e-b4fd-4065dc800bf9",
   "metadata": {},
   "source": [
    "- LC = bolometric\n",
    "- mAB ones are the ones that we \"observe\" and the ones that you care about. mAB is a unit.\n",
    "- mBH1 should actually mNS1\n",
    "\n",
    "bns['APR4'].keys() -> Shows the different light curves for a given equation of state.\n"
   ]
  },
  {
   "cell_type": "markdown",
   "id": "7867e106-b146-40b1-9718-72ae07f538dd",
   "metadata": {},
   "source": [
    "Plots a particular band for a given eos: \n",
    "\n",
    "for i in tqdm(range(len(bns[eos][band]))):\n",
    "    plt.plot(bns[eos]['time'][:]/(24*3600),bns[eos][band][i][:],alpha=0.1,c='r')\n",
    "    \n",
    "plt.gca().invert_yaxis()\n",
    "plt.show()"
   ]
  },
  {
   "cell_type": "markdown",
   "id": "417315d9-29b2-4cb0-99bc-567316a5ecab",
   "metadata": {},
   "source": [
    "#### Approach\n",
    "\n",
    "1. Fix EOS and fix band (do for all bands).\n",
    "2. Relax the EOS assumption and fix band.\n",
    "3. In general, start with `r` and `u` bands.\n",
    "4. End result- Feed one light curve in a particular band and it should tell me that the system is BNS or NSBH with X%, (100-X)% of confidence."
   ]
  },
  {
   "cell_type": "code",
   "execution_count": 4,
   "id": "7f68297c-24ab-4660-8c79-08a8e054804e",
   "metadata": {},
   "outputs": [
    {
     "name": "stderr",
     "output_type": "stream",
     "text": [
      "100%|████████████████████████████████████████████████| 7961/7961 [01:00<00:00, 131.24it/s]\n"
     ]
    },
    {
     "data": {
      "image/png": "[encoded data removed]",
      "text/plain": [
       "<Figure size 640x480 with 1 Axes>"
      ]
     },
     "metadata": {},
     "output_type": "display_data"
    }
   ],
   "source": [
    "eos_band_time_file = 'light_curves_with_time.hdf5'\n",
    "eos_band_time_training_file = h5py.File(eos_band_time_file,'r')\n",
    "print_data = True\n",
    "show_data = True\n",
    "i = 7000\n",
    "\n",
    "if print_data == True:\n",
    "    with h5py.File(eos_band_time_file, 'r') as f:\n",
    "        # Access the light curves dataset and labels\n",
    "        light_curves = f['light_curves']\n",
    "        labels = f['labels']\n",
    "        \n",
    "        # Retrieve the i-th sample's brightness and time values\n",
    "        brightness_values = light_curves[i]  # The brightness values (1st channel)\n",
    "        #time_values = light_curves[i, 1]        # The time values (2nd channel)\n",
    "        label = labels[i]                          # The label for this sample (0 or 1)\n",
    "\n",
    "        #print(f\"Brightness values for sample {i}:\", brightness_values)\n",
    "        #print(f\"Time values for sample {i}:\", time_values)\n",
    "        #print(f\"Label for sample {i} (0 for BNS, 1 for NSBH):\", label)\n",
    "\n",
    "        f.close()\n",
    "\n",
    "if show_data == True:\n",
    "    for i in tqdm(range(len(eos_band_time_training_file['light_curves']))):\n",
    "        c=\"r\"\n",
    "        if eos_band_time_training_file['labels'][i] == 1:\n",
    "            c=\"b\"\n",
    "        plt.plot(eos_band_time_training_file['light_curves'][i, 1, :][:] / (24*3600), \n",
    "                eos_band_time_training_file['light_curves'][i, 0, :][:], alpha=0.1, c=c)\n",
    "    \n",
    "\n",
    "    plt.gca().invert_yaxis()\n",
    "    plt.show()\n"
   ]
  },
  {
   "cell_type": "code",
   "execution_count": 8,
   "id": "d49018f4-bf92-4438-ac5a-f425c919f7f5",
   "metadata": {},
   "outputs": [
    {
     "name": "stdout",
     "output_type": "stream",
     "text": [
      "                precision    recall  f1-score   support\n",
      "\n",
      " Class 0 (BNS)       1.00      1.00      1.00      1508\n",
      "Class 1 (NSBH)       1.00      1.00      1.00        85\n",
      "\n",
      "      accuracy                           1.00      1593\n",
      "     macro avg       1.00      1.00      1.00      1593\n",
      "  weighted avg       1.00      1.00      1.00      1593\n",
      "\n"
     ]
    }
   ],
   "source": [
    "eos_band_time_file = 'light_curves_without_time.hdf5'\n",
    "\n",
    "with h5py.File(eos_band_time_file, 'r') as f:\n",
    "    light_curves = f['light_curves'][:]  # Shape: (7961, 2, 400)\n",
    "    labels = f['labels'][:]              # Shape: (7961,)\n",
    "\n",
    "    f.close()\n",
    "\n",
    "# Split into training and testing sets\n",
    "X_train, X_test, y_train, y_test = train_test_split(light_curves, labels, test_size=0.2, random_state=42)\n",
    "\n",
    "# Resample so that we have an even number of values\n",
    "X_train_combined = X_train.reshape(X_train.shape[0], -1)\n",
    "y_train_combined = y_train\n",
    "\n",
    "X_train_class_0 = X_train_combined[y_train_combined == 0]\n",
    "X_train_class_1 = X_train_combined[y_train_combined == 1]\n",
    "\n",
    "X_class_1_oversampled = resample(X_train_class_1, replace=True, n_samples=len(X_train_class_0), random_state=42)\n",
    "y_class_1_oversampled = np.ones(len(X_class_1_oversampled))\n",
    "\n",
    "X_balanced = np.vstack((X_train_class_0, X_class_1_oversampled))\n",
    "y_balanced = np.hstack((np.zeros(len(X_train_class_0)), y_class_1_oversampled))\n",
    "\n",
    "X_balanced = X_balanced.reshape(-1, 2, 400)\n",
    "\n",
    "X_train_flat = X_train.reshape(X_train.shape[0], -1)\n",
    "X_test_flat = X_test.reshape(X_test.shape[0], -1)\n",
    "\n",
    "# Initialize and train the model\n",
    "model = RandomForestClassifier(class_weight='balanced', n_estimators=50, random_state=42)\n",
    "model.fit(X_train_flat, y_train)\n",
    "\n",
    "# Predictions and evaluation\n",
    "y_pred = model.predict(X_test_flat)\n",
    "print(classification_report(y_test, y_pred, target_names=[\"Class 0 (BNS)\", \"Class 1 (NSBH)\"]))"
   ]
  },
  {
   "cell_type": "code",
   "execution_count": 10,
   "id": "969ebfb5-71c9-47b1-bd7f-7c98cbd7e16a",
   "metadata": {},
   "outputs": [
    {
     "data": {
      "text/html": [
       "<pre style=\"white-space:pre;overflow-x:auto;line-height:normal;font-family:Menlo,'DejaVu Sans Mono',consolas,'Courier New',monospace\"><span style=\"font-weight: bold\">Model: \"sequential\"</span>\n",
       "</pre>\n"
      ],
      "text/plain": [
       "\u001b[1mModel: \"sequential\"\u001b[0m\n"
      ]
     },
     "metadata": {},
     "output_type": "display_data"
    },
    {
     "data": {
      "text/html": [
       "<pre style=\"white-space:pre;overflow-x:auto;line-height:normal;font-family:Menlo,'DejaVu Sans Mono',consolas,'Courier New',monospace\">┏━━━━━━━━━━━━━━━━━━━━━━━━━━━━━━━━━┳━━━━━━━━━━━━━━━━━━━━━━━━┳━━━━━━━━━━━━━━━┓\n",
       "┃<span style=\"font-weight: bold\"> Layer (type)                    </span>┃<span style=\"font-weight: bold\"> Output Shape           </span>┃<span style=\"font-weight: bold\">       Param # </span>┃\n",
       "┡━━━━━━━━━━━━━━━━━━━━━━━━━━━━━━━━━╇━━━━━━━━━━━━━━━━━━━━━━━━╇━━━━━━━━━━━━━━━┩\n",
       "│ lstm (<span style=\"color: #0087ff; text-decoration-color: #0087ff\">LSTM</span>)                     │ (<span style=\"color: #00d7ff; text-decoration-color: #00d7ff\">None</span>, <span style=\"color: #00af00; text-decoration-color: #00af00\">400</span>, <span style=\"color: #00af00; text-decoration-color: #00af00\">64</span>)        │        <span style=\"color: #00af00; text-decoration-color: #00af00\">16,896</span> │\n",
       "├─────────────────────────────────┼────────────────────────┼───────────────┤\n",
       "│ dropout (<span style=\"color: #0087ff; text-decoration-color: #0087ff\">Dropout</span>)               │ (<span style=\"color: #00d7ff; text-decoration-color: #00d7ff\">None</span>, <span style=\"color: #00af00; text-decoration-color: #00af00\">400</span>, <span style=\"color: #00af00; text-decoration-color: #00af00\">64</span>)        │             <span style=\"color: #00af00; text-decoration-color: #00af00\">0</span> │\n",
       "├─────────────────────────────────┼────────────────────────┼───────────────┤\n",
       "│ lstm_1 (<span style=\"color: #0087ff; text-decoration-color: #0087ff\">LSTM</span>)                   │ (<span style=\"color: #00d7ff; text-decoration-color: #00d7ff\">None</span>, <span style=\"color: #00af00; text-decoration-color: #00af00\">32</span>)             │        <span style=\"color: #00af00; text-decoration-color: #00af00\">12,416</span> │\n",
       "├─────────────────────────────────┼────────────────────────┼───────────────┤\n",
       "│ dropout_1 (<span style=\"color: #0087ff; text-decoration-color: #0087ff\">Dropout</span>)             │ (<span style=\"color: #00d7ff; text-decoration-color: #00d7ff\">None</span>, <span style=\"color: #00af00; text-decoration-color: #00af00\">32</span>)             │             <span style=\"color: #00af00; text-decoration-color: #00af00\">0</span> │\n",
       "├─────────────────────────────────┼────────────────────────┼───────────────┤\n",
       "│ dense (<span style=\"color: #0087ff; text-decoration-color: #0087ff\">Dense</span>)                   │ (<span style=\"color: #00d7ff; text-decoration-color: #00d7ff\">None</span>, <span style=\"color: #00af00; text-decoration-color: #00af00\">32</span>)             │         <span style=\"color: #00af00; text-decoration-color: #00af00\">1,056</span> │\n",
       "├─────────────────────────────────┼────────────────────────┼───────────────┤\n",
       "│ dropout_2 (<span style=\"color: #0087ff; text-decoration-color: #0087ff\">Dropout</span>)             │ (<span style=\"color: #00d7ff; text-decoration-color: #00d7ff\">None</span>, <span style=\"color: #00af00; text-decoration-color: #00af00\">32</span>)             │             <span style=\"color: #00af00; text-decoration-color: #00af00\">0</span> │\n",
       "├─────────────────────────────────┼────────────────────────┼───────────────┤\n",
       "│ dense_1 (<span style=\"color: #0087ff; text-decoration-color: #0087ff\">Dense</span>)                 │ (<span style=\"color: #00d7ff; text-decoration-color: #00d7ff\">None</span>, <span style=\"color: #00af00; text-decoration-color: #00af00\">1</span>)              │            <span style=\"color: #00af00; text-decoration-color: #00af00\">33</span> │\n",
       "└─────────────────────────────────┴────────────────────────┴───────────────┘\n",
       "</pre>\n"
      ],
      "text/plain": [
       "┏━━━━━━━━━━━━━━━━━━━━━━━━━━━━━━━━━┳━━━━━━━━━━━━━━━━━━━━━━━━┳━━━━━━━━━━━━━━━┓\n",
       "┃\u001b[1m \u001b[0m\u001b[1mLayer (type)                   \u001b[0m\u001b[1m \u001b[0m┃\u001b[1m \u001b[0m\u001b[1mOutput Shape          \u001b[0m\u001b[1m \u001b[0m┃\u001b[1m \u001b[0m\u001b[1m      Param #\u001b[0m\u001b[1m \u001b[0m┃\n",
       "┡━━━━━━━━━━━━━━━━━━━━━━━━━━━━━━━━━╇━━━━━━━━━━━━━━━━━━━━━━━━╇━━━━━━━━━━━━━━━┩\n",
       "│ lstm (\u001b[38;5;33mLSTM\u001b[0m)                     │ (\u001b[38;5;45mNone\u001b[0m, \u001b[38;5;34m400\u001b[0m, \u001b[38;5;34m64\u001b[0m)        │        \u001b[38;5;34m16,896\u001b[0m │\n",
       "├─────────────────────────────────┼────────────────────────┼───────────────┤\n",
       "│ dropout (\u001b[38;5;33mDropout\u001b[0m)               │ (\u001b[38;5;45mNone\u001b[0m, \u001b[38;5;34m400\u001b[0m, \u001b[38;5;34m64\u001b[0m)        │             \u001b[38;5;34m0\u001b[0m │\n",
       "├─────────────────────────────────┼────────────────────────┼───────────────┤\n",
       "│ lstm_1 (\u001b[38;5;33mLSTM\u001b[0m)                   │ (\u001b[38;5;45mNone\u001b[0m, \u001b[38;5;34m32\u001b[0m)             │        \u001b[38;5;34m12,416\u001b[0m │\n",
       "├─────────────────────────────────┼────────────────────────┼───────────────┤\n",
       "│ dropout_1 (\u001b[38;5;33mDropout\u001b[0m)             │ (\u001b[38;5;45mNone\u001b[0m, \u001b[38;5;34m32\u001b[0m)             │             \u001b[38;5;34m0\u001b[0m │\n",
       "├─────────────────────────────────┼────────────────────────┼───────────────┤\n",
       "│ dense (\u001b[38;5;33mDense\u001b[0m)                   │ (\u001b[38;5;45mNone\u001b[0m, \u001b[38;5;34m32\u001b[0m)             │         \u001b[38;5;34m1,056\u001b[0m │\n",
       "├─────────────────────────────────┼────────────────────────┼───────────────┤\n",
       "│ dropout_2 (\u001b[38;5;33mDropout\u001b[0m)             │ (\u001b[38;5;45mNone\u001b[0m, \u001b[38;5;34m32\u001b[0m)             │             \u001b[38;5;34m0\u001b[0m │\n",
       "├─────────────────────────────────┼────────────────────────┼───────────────┤\n",
       "│ dense_1 (\u001b[38;5;33mDense\u001b[0m)                 │ (\u001b[38;5;45mNone\u001b[0m, \u001b[38;5;34m1\u001b[0m)              │            \u001b[38;5;34m33\u001b[0m │\n",
       "└─────────────────────────────────┴────────────────────────┴───────────────┘\n"
      ]
     },
     "metadata": {},
     "output_type": "display_data"
    },
    {
     "data": {
      "text/html": [
       "<pre style=\"white-space:pre;overflow-x:auto;line-height:normal;font-family:Menlo,'DejaVu Sans Mono',consolas,'Courier New',monospace\"><span style=\"font-weight: bold\"> Total params: </span><span style=\"color: #00af00; text-decoration-color: #00af00\">30,401</span> (118.75 KB)\n",
       "</pre>\n"
      ],
      "text/plain": [
       "\u001b[1m Total params: \u001b[0m\u001b[38;5;34m30,401\u001b[0m (118.75 KB)\n"
      ]
     },
     "metadata": {},
     "output_type": "display_data"
    },
    {
     "data": {
      "text/html": [
       "<pre style=\"white-space:pre;overflow-x:auto;line-height:normal;font-family:Menlo,'DejaVu Sans Mono',consolas,'Courier New',monospace\"><span style=\"font-weight: bold\"> Trainable params: </span><span style=\"color: #00af00; text-decoration-color: #00af00\">30,401</span> (118.75 KB)\n",
       "</pre>\n"
      ],
      "text/plain": [
       "\u001b[1m Trainable params: \u001b[0m\u001b[38;5;34m30,401\u001b[0m (118.75 KB)\n"
      ]
     },
     "metadata": {},
     "output_type": "display_data"
    },
    {
     "data": {
      "text/html": [
       "<pre style=\"white-space:pre;overflow-x:auto;line-height:normal;font-family:Menlo,'DejaVu Sans Mono',consolas,'Courier New',monospace\"><span style=\"font-weight: bold\"> Non-trainable params: </span><span style=\"color: #00af00; text-decoration-color: #00af00\">0</span> (0.00 B)\n",
       "</pre>\n"
      ],
      "text/plain": [
       "\u001b[1m Non-trainable params: \u001b[0m\u001b[38;5;34m0\u001b[0m (0.00 B)\n"
      ]
     },
     "metadata": {},
     "output_type": "display_data"
    },
    {
     "name": "stdout",
     "output_type": "stream",
     "text": [
      "Finished Summary\n",
      "Epoch 1/20\n",
      "\u001b[1m301/301\u001b[0m \u001b[32m━━━━━━━━━━━━━━━━━━━━\u001b[0m\u001b[37m\u001b[0m \u001b[1m60s\u001b[0m 193ms/step - accuracy: 0.6062 - loss: 0.6728 - val_accuracy: 0.0000e+00 - val_loss: 1.0382\n",
      "Epoch 2/20\n",
      "\u001b[1m301/301\u001b[0m \u001b[32m━━━━━━━━━━━━━━━━━━━━\u001b[0m\u001b[37m\u001b[0m \u001b[1m58s\u001b[0m 193ms/step - accuracy: 0.6217 - loss: 0.6604 - val_accuracy: 0.0000e+00 - val_loss: 0.8451\n",
      "Epoch 3/20\n",
      "\u001b[1m301/301\u001b[0m \u001b[32m━━━━━━━━━━━━━━━━━━━━\u001b[0m\u001b[37m\u001b[0m \u001b[1m58s\u001b[0m 192ms/step - accuracy: 0.6220 - loss: 0.6469 - val_accuracy: 0.0000e+00 - val_loss: 1.0897\n",
      "Epoch 4/20\n",
      "\u001b[1m301/301\u001b[0m \u001b[32m━━━━━━━━━━━━━━━━━━━━\u001b[0m\u001b[37m\u001b[0m \u001b[1m58s\u001b[0m 192ms/step - accuracy: 0.6375 - loss: 0.6412 - val_accuracy: 0.0000e+00 - val_loss: 0.9174\n",
      "Epoch 5/20\n",
      "\u001b[1m301/301\u001b[0m \u001b[32m━━━━━━━━━━━━━━━━━━━━\u001b[0m\u001b[37m\u001b[0m \u001b[1m58s\u001b[0m 192ms/step - accuracy: 0.6407 - loss: 0.6366 - val_accuracy: 0.0000e+00 - val_loss: 0.9145\n",
      "Epoch 6/20\n",
      "\u001b[1m301/301\u001b[0m \u001b[32m━━━━━━━━━━━━━━━━━━━━\u001b[0m\u001b[37m\u001b[0m \u001b[1m58s\u001b[0m 192ms/step - accuracy: 0.6237 - loss: 0.6478 - val_accuracy: 0.0000e+00 - val_loss: 1.0023\n",
      "Epoch 7/20\n",
      "\u001b[1m301/301\u001b[0m \u001b[32m━━━━━━━━━━━━━━━━━━━━\u001b[0m\u001b[37m\u001b[0m \u001b[1m58s\u001b[0m 193ms/step - accuracy: 0.6119 - loss: 0.6634 - val_accuracy: 0.0000e+00 - val_loss: 0.9116\n",
      "Epoch 8/20\n",
      "\u001b[1m301/301\u001b[0m \u001b[32m━━━━━━━━━━━━━━━━━━━━\u001b[0m\u001b[37m\u001b[0m \u001b[1m58s\u001b[0m 193ms/step - accuracy: 0.6318 - loss: 0.6585 - val_accuracy: 0.0000e+00 - val_loss: 0.9202\n",
      "Epoch 9/20\n",
      "\u001b[1m301/301\u001b[0m \u001b[32m━━━━━━━━━━━━━━━━━━━━\u001b[0m\u001b[37m\u001b[0m \u001b[1m58s\u001b[0m 194ms/step - accuracy: 0.6203 - loss: 0.6648 - val_accuracy: 0.0000e+00 - val_loss: 0.9574\n",
      "Epoch 10/20\n",
      "\u001b[1m301/301\u001b[0m \u001b[32m━━━━━━━━━━━━━━━━━━━━\u001b[0m\u001b[37m\u001b[0m \u001b[1m58s\u001b[0m 193ms/step - accuracy: 0.6237 - loss: 0.6632 - val_accuracy: 0.0000e+00 - val_loss: 0.9415\n",
      "Epoch 11/20\n",
      "\u001b[1m301/301\u001b[0m \u001b[32m━━━━━━━━━━━━━━━━━━━━\u001b[0m\u001b[37m\u001b[0m \u001b[1m58s\u001b[0m 193ms/step - accuracy: 0.6169 - loss: 0.6652 - val_accuracy: 0.0000e+00 - val_loss: 0.9511\n",
      "Epoch 12/20\n",
      "\u001b[1m301/301\u001b[0m \u001b[32m━━━━━━━━━━━━━━━━━━━━\u001b[0m\u001b[37m\u001b[0m \u001b[1m57s\u001b[0m 191ms/step - accuracy: 0.6278 - loss: 0.6583 - val_accuracy: 0.0000e+00 - val_loss: 0.9061\n",
      "Epoch 13/20\n",
      "\u001b[1m301/301\u001b[0m \u001b[32m━━━━━━━━━━━━━━━━━━━━\u001b[0m\u001b[37m\u001b[0m \u001b[1m59s\u001b[0m 195ms/step - accuracy: 0.6187 - loss: 0.6590 - val_accuracy: 0.0000e+00 - val_loss: 0.9482\n",
      "Epoch 14/20\n",
      "\u001b[1m301/301\u001b[0m \u001b[32m━━━━━━━━━━━━━━━━━━━━\u001b[0m\u001b[37m\u001b[0m \u001b[1m59s\u001b[0m 196ms/step - accuracy: 0.6210 - loss: 0.6653 - val_accuracy: 0.0000e+00 - val_loss: 0.9720\n",
      "Epoch 15/20\n",
      "\u001b[1m301/301\u001b[0m \u001b[32m━━━━━━━━━━━━━━━━━━━━\u001b[0m\u001b[37m\u001b[0m \u001b[1m59s\u001b[0m 197ms/step - accuracy: 0.6224 - loss: 0.6631 - val_accuracy: 0.0000e+00 - val_loss: 0.9805\n",
      "Epoch 16/20\n",
      "\u001b[1m301/301\u001b[0m \u001b[32m━━━━━━━━━━━━━━━━━━━━\u001b[0m\u001b[37m\u001b[0m \u001b[1m59s\u001b[0m 197ms/step - accuracy: 0.6161 - loss: 0.6615 - val_accuracy: 0.0000e+00 - val_loss: 1.0126\n",
      "Epoch 17/20\n",
      "\u001b[1m301/301\u001b[0m \u001b[32m━━━━━━━━━━━━━━━━━━━━\u001b[0m\u001b[37m\u001b[0m \u001b[1m59s\u001b[0m 197ms/step - accuracy: 0.6213 - loss: 0.6602 - val_accuracy: 0.0000e+00 - val_loss: 0.9432\n",
      "Epoch 18/20\n",
      "\u001b[1m301/301\u001b[0m \u001b[32m━━━━━━━━━━━━━━━━━━━━\u001b[0m\u001b[37m\u001b[0m \u001b[1m59s\u001b[0m 197ms/step - accuracy: 0.6259 - loss: 0.6615 - val_accuracy: 0.0000e+00 - val_loss: 0.9532\n",
      "Epoch 19/20\n",
      "\u001b[1m301/301\u001b[0m \u001b[32m━━━━━━━━━━━━━━━━━━━━\u001b[0m\u001b[37m\u001b[0m \u001b[1m59s\u001b[0m 196ms/step - accuracy: 0.6226 - loss: 0.6632 - val_accuracy: 0.0000e+00 - val_loss: 0.9562\n",
      "Epoch 20/20\n",
      "\u001b[1m301/301\u001b[0m \u001b[32m━━━━━━━━━━━━━━━━━━━━\u001b[0m\u001b[37m\u001b[0m \u001b[1m59s\u001b[0m 198ms/step - accuracy: 0.6253 - loss: 0.6571 - val_accuracy: 0.0000e+00 - val_loss: 0.9407\n",
      "Finished fitting the model\n"
     ]
    },
    {
     "ename": "ValueError",
     "evalue": "Exception encountered when calling Sequential.call().\n\n\u001b[1mCannot take the length of shape with unknown rank.\u001b[0m\n\nArguments received by Sequential.call():\n  • inputs=tf.Tensor(shape=<unknown>, dtype=float32)\n  • training=False\n  • mask=None",
     "output_type": "error",
     "traceback": [
      "\u001b[0;31m---------------------------------------------------------------------------\u001b[0m",
      "\u001b[0;31mValueError\u001b[0m                                Traceback (most recent call last)",
      "Cell \u001b[0;32mIn[10], line 94\u001b[0m\n\u001b[1;32m     90\u001b[0m history \u001b[38;5;241m=\u001b[39m model\u001b[38;5;241m.\u001b[39mfit(X_balanced, y_balanced, epochs\u001b[38;5;241m=\u001b[39m\u001b[38;5;241m20\u001b[39m, batch_size\u001b[38;5;241m=\u001b[39m\u001b[38;5;241m32\u001b[39m, validation_split\u001b[38;5;241m=\u001b[39m\u001b[38;5;241m0.2\u001b[39m, verbose\u001b[38;5;241m=\u001b[39m\u001b[38;5;241m1\u001b[39m)\n\u001b[1;32m     92\u001b[0m \u001b[38;5;28mprint\u001b[39m(\u001b[38;5;124m\"\u001b[39m\u001b[38;5;124mFinished fitting the model\u001b[39m\u001b[38;5;124m\"\u001b[39m)\n\u001b[0;32m---> 94\u001b[0m test_loss, test_accuracy \u001b[38;5;241m=\u001b[39m \u001b[43mmodel\u001b[49m\u001b[38;5;241;43m.\u001b[39;49m\u001b[43mevaluate\u001b[49m\u001b[43m(\u001b[49m\u001b[43mX_test\u001b[49m\u001b[43m,\u001b[49m\u001b[43m \u001b[49m\u001b[43my_test\u001b[49m\u001b[43m)\u001b[49m\n\u001b[1;32m     95\u001b[0m \u001b[38;5;28mprint\u001b[39m(\u001b[38;5;124mf\u001b[39m\u001b[38;5;124m\"\u001b[39m\u001b[38;5;124mTest Loss: \u001b[39m\u001b[38;5;132;01m{\u001b[39;00mtest_loss\u001b[38;5;132;01m}\u001b[39;00m\u001b[38;5;124m\"\u001b[39m)\n\u001b[1;32m     96\u001b[0m \u001b[38;5;28mprint\u001b[39m(\u001b[38;5;124mf\u001b[39m\u001b[38;5;124m\"\u001b[39m\u001b[38;5;124mTest Accuracy: \u001b[39m\u001b[38;5;132;01m{\u001b[39;00mtest_accuracy\u001b[38;5;132;01m}\u001b[39;00m\u001b[38;5;124m\"\u001b[39m)\n",
      "File \u001b[0;32m/opt/anaconda3/envs/rnn_env/lib/python3.9/site-packages/keras/src/utils/traceback_utils.py:122\u001b[0m, in \u001b[0;36mfilter_traceback.<locals>.error_handler\u001b[0;34m(*args, **kwargs)\u001b[0m\n\u001b[1;32m    119\u001b[0m     filtered_tb \u001b[38;5;241m=\u001b[39m _process_traceback_frames(e\u001b[38;5;241m.\u001b[39m__traceback__)\n\u001b[1;32m    120\u001b[0m     \u001b[38;5;66;03m# To get the full stack trace, call:\u001b[39;00m\n\u001b[1;32m    121\u001b[0m     \u001b[38;5;66;03m# `keras.config.disable_traceback_filtering()`\u001b[39;00m\n\u001b[0;32m--> 122\u001b[0m     \u001b[38;5;28;01mraise\u001b[39;00m e\u001b[38;5;241m.\u001b[39mwith_traceback(filtered_tb) \u001b[38;5;28;01mfrom\u001b[39;00m \u001b[38;5;28;01mNone\u001b[39;00m\n\u001b[1;32m    123\u001b[0m \u001b[38;5;28;01mfinally\u001b[39;00m:\n\u001b[1;32m    124\u001b[0m     \u001b[38;5;28;01mdel\u001b[39;00m filtered_tb\n",
      "File \u001b[0;32m/opt/anaconda3/envs/rnn_env/lib/python3.9/site-packages/keras/src/utils/traceback_utils.py:122\u001b[0m, in \u001b[0;36mfilter_traceback.<locals>.error_handler\u001b[0;34m(*args, **kwargs)\u001b[0m\n\u001b[1;32m    119\u001b[0m     filtered_tb \u001b[38;5;241m=\u001b[39m _process_traceback_frames(e\u001b[38;5;241m.\u001b[39m__traceback__)\n\u001b[1;32m    120\u001b[0m     \u001b[38;5;66;03m# To get the full stack trace, call:\u001b[39;00m\n\u001b[1;32m    121\u001b[0m     \u001b[38;5;66;03m# `keras.config.disable_traceback_filtering()`\u001b[39;00m\n\u001b[0;32m--> 122\u001b[0m     \u001b[38;5;28;01mraise\u001b[39;00m e\u001b[38;5;241m.\u001b[39mwith_traceback(filtered_tb) \u001b[38;5;28;01mfrom\u001b[39;00m \u001b[38;5;28;01mNone\u001b[39;00m\n\u001b[1;32m    123\u001b[0m \u001b[38;5;28;01mfinally\u001b[39;00m:\n\u001b[1;32m    124\u001b[0m     \u001b[38;5;28;01mdel\u001b[39;00m filtered_tb\n",
      "\u001b[0;31mValueError\u001b[0m: Exception encountered when calling Sequential.call().\n\n\u001b[1mCannot take the length of shape with unknown rank.\u001b[0m\n\nArguments received by Sequential.call():\n  • inputs=tf.Tensor(shape=<unknown>, dtype=float32)\n  • training=False\n  • mask=None"
     ]
    }
   ],
   "source": [
    "eos_band_time_file = 'light_curves_without_time.hdf5'\n",
    "\n",
    "with h5py.File(eos_band_time_file, 'r') as f:\n",
    "    light_curves = f['light_curves'][:]  # Shape: (7961, 2, 400)\n",
    "    labels = f['labels'][:]              # Shape: (7961,)\n",
    "\n",
    "    f.close()\n",
    "\n",
    "# light_curves[i, 0] gives the ith sample's brighness values in mAB, and light_curves[i, 1] gives the ith sample's time steps\n",
    "# each of them should have 400 values.\n",
    "\n",
    "# scaler = StandardScaler()\n",
    "\n",
    "# # Reshape data to 2D for scaling\n",
    "# n_samples, n_timesteps, n_features = light_curves.shape\n",
    "# light_curves_2d = light_curves.reshape(-1, n_features)\n",
    "# light_curves_2d = scaler.fit_transform(light_curves_2d)\n",
    "\n",
    "# # Reshape back to 3D\n",
    "# light_curves = light_curves_2d.reshape(n_samples, n_timesteps, n_features)\n",
    "\n",
    "# Split into training and testing sets\n",
    "X_train, X_test, y_train, y_test = train_test_split(light_curves, labels, test_size=0.2, random_state=42)\n",
    "\n",
    "# Resample so that we have an even number of values\n",
    "X_train_combined = X_train.reshape(X_train.shape[0], -1)\n",
    "y_train_combined = y_train\n",
    "\n",
    "X_train_class_0 = X_train_combined[y_train_combined == 0]\n",
    "X_train_class_1 = X_train_combined[y_train_combined == 1]\n",
    "\n",
    "X_class_1_oversampled = resample(X_train_class_1, replace=True, n_samples=len(X_train_class_0), random_state=42)\n",
    "y_class_1_oversampled = np.ones(len(X_class_1_oversampled))\n",
    "\n",
    "X_balanced = np.vstack((X_train_class_0, X_class_1_oversampled))\n",
    "y_balanced = np.hstack((np.zeros(len(X_train_class_0)), y_class_1_oversampled))\n",
    "\n",
    "X_balanced = X_balanced.reshape(-1, 400, 1)\n",
    "X_test = X_test.reshape(-1, 400, 1) \n",
    "\n",
    "#print(\"X_balanced and y\", X_balanced[800, 1], y_balanced[800])\n",
    "\n",
    "# Define the model with an Input layer\n",
    "model = Sequential([\n",
    "    Input(shape=(400, 1)),             # Define input shape here\n",
    "    LSTM(64, return_sequences=True),   # First LSTM layer\n",
    "    Dropout(0.3),\n",
    "    LSTM(32, return_sequences=False),  # Second LSTM layer\n",
    "    Dropout(0.3),\n",
    "    Dense(32, activation='relu'),      # Dense layer for further processing\n",
    "    Dropout(0.3),\n",
    "    Dense(1, activation='sigmoid')     # Output layer for binary classification\n",
    "])\n",
    "\n",
    "# model = Sequential([\n",
    "#     Flatten(input_shape=(2, 400)),             # Define input shape here\n",
    "#     Dense(64, activation='relu'),   # First LSTM layer\n",
    "#     Dropout(0.3),\n",
    "#     Dense(32, activation='relu'),  # Second LSTM layer\n",
    "#     Dropout(0.3),\n",
    "#     Dense(16, activation='relu'),\n",
    "#     Dropout(0.3),\n",
    "#     Dense(1, activation='sigmoid')     # Output layer for binary classification\n",
    "# ])\n",
    "\n",
    "# X_balanced = X_balanced.transpose((0, 2, 1))  # Transpose from (samples, 2, 400) to (samples, 400, 2)\n",
    "# X_test = X_test.transpose((0, 2, 1))\n",
    "\n",
    "# model = Sequential([\n",
    "#     Conv1D(64, kernel_size=3, activation='relu', input_shape=(400, 2)),\n",
    "#     MaxPooling1D(pool_size=2),\n",
    "#     Conv1D(32, kernel_size=3, activation='relu'),\n",
    "#     Flatten(),\n",
    "#     Dense(64, activation='relu'),\n",
    "#     Dropout(0.3),\n",
    "#     Dense(1, activation='sigmoid')\n",
    "# ])\n",
    "\n",
    "# Compile the model\n",
    "model.compile(optimizer='adam', loss='binary_crossentropy', metrics=['accuracy'])\n",
    "\n",
    "# Display model summary\n",
    "model.summary()\n",
    "\n",
    "print(\"Finished Summary\")\n",
    "\n",
    "# class_weights = compute_class_weight('balanced', classes=np.unique(y_train), y=y_train)\n",
    "# class_weight_dict = dict(enumerate(class_weights))\n",
    "\n",
    "# Fit the model on the training data\n",
    "history = model.fit(X_balanced, y_balanced, epochs=20, batch_size=32, validation_split=0.2, verbose=1)\n",
    "\n",
    "print(\"Finished fitting the model\")\n",
    "\n",
    "test_loss, test_accuracy = model.evaluate(X_test, y_test)\n",
    "print(f\"Test Loss: {test_loss}\")\n",
    "print(f\"Test Accuracy: {test_accuracy}\")\n",
    "\n",
    "# Assuming `X_test` is the test set we want to make predictions on\n",
    "predictions = model.predict(X_test)\n",
    "\n",
    "# Show the raw output (probabilities) for the first 5 samples\n",
    "print(\"Raw predictions:\", predictions[:5])\n",
    "\n",
    "# # Convert probabilities to binary class labels\n",
    "# # Threshold of 0.5: anything >= 0.5 is class 1 (NSBH), anything < 0.5 is class 0 (BNS)\n",
    "# predicted_classes = (predictions >= 0.5).astype(int)\n",
    "\n",
    "# # Show the predicted class labels for the first 5 samples\n",
    "# print(\"Predicted classes:\", predicted_classes[:5])\n"
   ]
  },
  {
   "cell_type": "code",
   "execution_count": null,
   "id": "0d414bcf-28a6-495a-95dd-b85029098ce9",
   "metadata": {},
   "outputs": [],
   "source": []
  }
 ],
 "metadata": {
  "kernelspec": {
   "display_name": "Python (ml_env)",
   "language": "python",
   "name": "ml_env"
  },
  "language_info": {
   "codemirror_mode": {
    "name": "ipython",
    "version": 3
   },
   "file_extension": ".py",
   "mimetype": "text/x-python",
   "name": "python",
   "nbconvert_exporter": "python",
   "pygments_lexer": "ipython3",
   "version": "3.9.20"
  }
 },
 "nbformat": 4,
 "nbformat_minor": 5
}
