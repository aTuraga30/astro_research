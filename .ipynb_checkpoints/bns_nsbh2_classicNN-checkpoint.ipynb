{
 "cells": [
  {
   "cell_type": "code",
   "execution_count": 1,
   "id": "bb117011-ca07-4077-a119-aaa1f2cf90f0",
   "metadata": {},
   "outputs": [
    {
     "name": "stdout",
     "output_type": "stream",
     "text": [
      "Finished importing\n"
     ]
    }
   ],
   "source": [
    "import h5py\n",
    "import torch \n",
    "import numpy as np\n",
    "import torch.nn as nn \n",
    "import torch.optim as optim\n",
    "from sklearn.model_selection import train_test_split\n",
    "\n",
    "print(\"Finished importing\")"
   ]
  },
  {
   "cell_type": "code",
   "execution_count": 14,
   "id": "48ee0bce-28c4-4674-a4f5-561c3af9d2ee",
   "metadata": {},
   "outputs": [
    {
     "ename": "ValueError",
     "evalue": "all the input arrays must have same number of dimensions, but the array at index 0 has 2 dimension(s) and the array at index 1 has 1 dimension(s)",
     "output_type": "error",
     "traceback": [
      "\u001b[0;31m---------------------------------------------------------------------------\u001b[0m",
      "\u001b[0;31mValueError\u001b[0m                                Traceback (most recent call last)",
      "Cell \u001b[0;32mIn[14], line 18\u001b[0m\n\u001b[1;32m     15\u001b[0m nsb_label \u001b[38;5;241m=\u001b[39m np\u001b[38;5;241m.\u001b[39mones(\u001b[38;5;28mlen\u001b[39m(nsb_eos_band))\n\u001b[1;32m     17\u001b[0m all_data \u001b[38;5;241m=\u001b[39m np\u001b[38;5;241m.\u001b[39mconcatenate([bns_eos_band, nsb_eos_band], axis\u001b[38;5;241m=\u001b[39m\u001b[38;5;241m0\u001b[39m)\n\u001b[0;32m---> 18\u001b[0m all_data_with_time \u001b[38;5;241m=\u001b[39m \u001b[43mnp\u001b[49m\u001b[38;5;241;43m.\u001b[39;49m\u001b[43mconcatenate\u001b[49m\u001b[43m(\u001b[49m\u001b[43m[\u001b[49m\u001b[43mall_data\u001b[49m\u001b[43m,\u001b[49m\u001b[43m \u001b[49m\u001b[43mtime_band\u001b[49m\u001b[43m]\u001b[49m\u001b[43m,\u001b[49m\u001b[43m \u001b[49m\u001b[43maxis\u001b[49m\u001b[38;5;241;43m=\u001b[39;49m\u001b[38;5;241;43m0\u001b[39;49m\u001b[43m)\u001b[49m\n\u001b[1;32m     19\u001b[0m all_labels \u001b[38;5;241m=\u001b[39m np\u001b[38;5;241m.\u001b[39mconcatenate([bns_label, nsb_label], axis\u001b[38;5;241m=\u001b[39m\u001b[38;5;241m0\u001b[39m)\n\u001b[1;32m     21\u001b[0m print_structure \u001b[38;5;241m=\u001b[39m \u001b[38;5;28;01mTrue\u001b[39;00m\n",
      "\u001b[0;31mValueError\u001b[0m: all the input arrays must have same number of dimensions, but the array at index 0 has 2 dimension(s) and the array at index 1 has 1 dimension(s)"
     ]
    }
   ],
   "source": [
    "# Data preprocessing - making sure that each of the files has a 0 or 1 corresponding \n",
    "# to whether or not we have a bns or a nsbh or not.\n",
    "\n",
    "bns = h5py.File('comb1_bns.hdf5','r')\n",
    "nsb = h5py.File('comb5_nsbh.hdf5','r')\n",
    "\n",
    "eos = 'APR4'\n",
    "band = 'mAB_R'\n",
    "\n",
    "bns_eos_band = bns[eos][band] # shape -> (7522, 400), (len(bns_eos_band), len(bns[eos][band][0]))\n",
    "nsb_eos_band = nsb[eos][band] # shape -> (439, 400)\n",
    "time_band = bns[eos]['time'] # shape -> (400,)\n",
    "\n",
    "bns_label = np.zeros(len(bns_eos_band))\n",
    "nsb_label = np.ones(len(nsb_eos_band))\n",
    "\n",
    "all_data = np.concatenate([bns_eos_band, nsb_eos_band], axis=0)\n",
    "all_data_with_time = np.concatenate([all_data, time_band], axis=0)\n",
    "all_labels = np.concatenate([bns_label, nsb_label], axis=0)\n",
    "\n",
    "print_structure = True\n",
    "\n",
    "# Creating the dataset\n",
    "with h5py.File('light_curves_without_time.hdf5', 'w') as f:\n",
    "    f.create_dataset('light_curves', data=all_data, compression=\"gzip\", compression_opts=9)\n",
    "    \n",
    "    # Dataset for labels\n",
    "    f.create_dataset('labels', data=all_labels, compression=\"gzip\", compression_opts=9)\n",
    "    \n",
    "    # Add metadata\n",
    "    f.attrs['description'] = \"Light curve data for BNS and NSBH mergers, without time\"\n",
    "    f.attrs['bands'] = [\"mAB_band\"]\n",
    "    f.attrs['BNS_class'] = 0  # BNS class label\n",
    "    f.attrs['NSBH_class'] = 1  # NSBH class label\n",
    "\n",
    "    f.close()\n",
    "\n",
    "def print_structure(name, obj):\n",
    "    # Prints the name and type of each item in the HDF5 file\n",
    "    print(f\"{name}: {type(obj)}\")\n",
    "    if isinstance(obj, h5py.Dataset):  # If it's a dataset, print shape and dtype\n",
    "        print(f\"  - Shape: {obj.shape}\")\n",
    "        print(f\"  - Data type: {obj.dtype}\")\n",
    "    elif isinstance(obj, h5py.Group):  # If it's a group, list the contents\n",
    "        print(f\"  - Contains: {list(obj.keys())}\")\n",
    "\n",
    "with h5py.File('light_curves_without_time.hdf5', 'r') as f:\n",
    "    print(\"File Structure:\")\n",
    "    f.visititems(print_structure)\n",
    "    \n",
    "    # Print file-level attributes\n",
    "    print(\"\\nFile Attributes:\")\n",
    "    for key, value in f.attrs.items():\n",
    "        print(f\"  {key}: {value}\")\n",
    "\n",
    "    f.close()\n",
    "    \n",
    "print()\n",
    "print(\"Finished pre-processing the data\")"
   ]
  },
  {
   "cell_type": "code",
   "execution_count": 13,
   "id": "45c1f62c-f8ca-4b0f-9341-78a2fe20efa9",
   "metadata": {},
   "outputs": [
    {
     "name": "stdout",
     "output_type": "stream",
     "text": [
      "400\n",
      "400\n",
      "Finished splitting the data\n",
      "tensor([[54.1979, 25.9011, 25.0470,  ..., 26.5695, 26.5769, 26.5842],\n",
      "        [54.3180, 25.9728, 25.1026,  ..., 27.7247, 27.7312, 27.7377],\n",
      "        [54.1842, 25.8932, 25.0415,  ..., 29.0173, 29.0233, 29.0293],\n",
      "        ...,\n",
      "        [41.1781, 23.1423, 22.6846,  ..., 27.9779, 27.9835, 27.9890],\n",
      "        [54.3616, 25.9992, 25.1233,  ..., 27.8714, 27.8775, 27.8836],\n",
      "        [41.3506, 23.3130, 22.8497,  ..., 27.4105, 27.4162, 27.4219]])\n"
     ]
    }
   ],
   "source": [
    "# Data splitting into X and y\n",
    "bns_time_band = bns[eos]['time']\n",
    "nsb_time_band = nsb[eos]['time']\n",
    "\n",
    "eos_band_time_file = 'light_curves_without_time.hdf5'\n",
    "\n",
    "with h5py.File(eos_band_time_file, 'r') as f:\n",
    "    light_curves = f['light_curves'][:]  # Shape: (7961, 400)\n",
    "    labels = f['labels'][:]              # Shape: (7961,)\n",
    "\n",
    "    f.close()\n",
    "\n",
    "X_bns = light_curves[0:400]\n",
    "y_bns = labels[0:400]\n",
    "\n",
    "X_nsbh = light_curves[7522:7960]\n",
    "y_nsbh = labels[7522:7960]\n",
    "\n",
    "X = np.concatenate((X_bns, X_nsbh), axis=0)\n",
    "y = np.concatenate((y_bns, y_nsbh), axis=0)\n",
    "\n",
    "X_train, X_test, y_train, y_test = train_test_split(X, y, test_size=0.2, random_state=42)\n",
    "\n",
    "X_train = torch.tensor(X_train, dtype=torch.float32)\n",
    "y_train = torch.tensor(y_train, dtype=torch.float32)\n",
    "y_train = y_train.long()\n",
    "\n",
    "X_test = torch.tensor(X_test, dtype=torch.float32)\n",
    "y_test = torch.tensor(y_test, dtype=torch.float32)\n",
    "y_test = y_test.long()\n",
    "\n",
    "print(\"Finished splitting the data\")\n",
    "print(X_train)"
   ]
  },
  {
   "cell_type": "code",
   "execution_count": 6,
   "id": "4a4a1c61-1ad9-41ec-b123-68510f875fb4",
   "metadata": {},
   "outputs": [
    {
     "name": "stdout",
     "output_type": "stream",
     "text": [
      "Finished the model setup\n"
     ]
    }
   ],
   "source": [
    "model = nn.Sequential(\n",
    "    nn.BatchNorm1d(400),\n",
    "    nn.Linear(400, 64),\n",
    "    nn.ReLU(),  \n",
    "    nn.Linear(64, 8), \n",
    "    nn.ReLU(),\n",
    "    nn.Linear(8, 2)\n",
    ")\n",
    "\n",
    "#class_counts = torch.bincount(y)\n",
    "#total_class_counts = class_counts.sum()\n",
    "#class_weights = total_class_counts / class_counts\n",
    "\n",
    "#print(class_counts)\n",
    "\n",
    "loss_fn = nn.CrossEntropyLoss()\n",
    "optimizer = optim.Adam(model.parameters(), lr=0.01)\n",
    "\n",
    "scheduler = torch.optim.lr_scheduler.ReduceLROnPlateau(optimizer, 'min')\n",
    "torch.nn.utils.clip_grad_norm_(model.parameters(), max_norm=1.0)\n",
    "\n",
    "print(\"Finished the model setup\")"
   ]
  },
  {
   "cell_type": "code",
   "execution_count": 7,
   "id": "af12d95d-27df-4b23-8559-24519e5effd0",
   "metadata": {},
   "outputs": [
    {
     "name": "stdout",
     "output_type": "stream",
     "text": [
      "Epoch 1/50, Loss: 0.0277\n",
      "Epoch 2/50, Loss: 0.0110\n",
      "Epoch 3/50, Loss: 0.0032\n",
      "Epoch 4/50, Loss: 0.0015\n",
      "Epoch 5/50, Loss: 0.0022\n",
      "Epoch 6/50, Loss: 0.0007\n",
      "Epoch 7/50, Loss: 0.0269\n",
      "Epoch 8/50, Loss: 0.0224\n",
      "Epoch 9/50, Loss: 0.0060\n",
      "Epoch 10/50, Loss: 0.0034\n",
      "Epoch 11/50, Loss: 0.0007\n",
      "Epoch 12/50, Loss: 0.0081\n",
      "Epoch 13/50, Loss: 0.0026\n",
      "Epoch 14/50, Loss: 0.0004\n",
      "Epoch 15/50, Loss: 0.0021\n",
      "Epoch 16/50, Loss: 0.0004\n",
      "Epoch 17/50, Loss: 0.0006\n",
      "Epoch 18/50, Loss: 0.0064\n",
      "Epoch 19/50, Loss: 0.0063\n",
      "Epoch 20/50, Loss: 0.0071\n",
      "Epoch 21/50, Loss: 0.0024\n",
      "Epoch 22/50, Loss: 0.0002\n",
      "Epoch 23/50, Loss: 0.0000\n",
      "Epoch 24/50, Loss: 0.0000\n",
      "Epoch 25/50, Loss: 0.0086\n",
      "Epoch 26/50, Loss: 0.0068\n",
      "Epoch 27/50, Loss: 0.0142\n",
      "Epoch 28/50, Loss: 0.0004\n",
      "Epoch 29/50, Loss: 0.0001\n",
      "Epoch 30/50, Loss: 0.0000\n",
      "Epoch 31/50, Loss: 0.0000\n",
      "Epoch 32/50, Loss: 0.0053\n",
      "Epoch 33/50, Loss: 0.0019\n",
      "Epoch 34/50, Loss: 0.0000\n",
      "Epoch 35/50, Loss: 0.0001\n",
      "Epoch 36/50, Loss: 0.0001\n",
      "Epoch 37/50, Loss: 0.0001\n",
      "Epoch 38/50, Loss: 0.0088\n",
      "Epoch 39/50, Loss: 0.0009\n",
      "Epoch 40/50, Loss: 0.0026\n",
      "Epoch 41/50, Loss: 0.0002\n",
      "Epoch 42/50, Loss: 0.0025\n",
      "Epoch 43/50, Loss: 0.0026\n",
      "Epoch 44/50, Loss: 0.0074\n",
      "Epoch 45/50, Loss: 0.0047\n",
      "Epoch 46/50, Loss: 0.0061\n",
      "Epoch 47/50, Loss: 0.0014\n",
      "Epoch 48/50, Loss: 0.0016\n",
      "Epoch 49/50, Loss: 0.0003\n",
      "Epoch 50/50, Loss: 0.0004\n"
     ]
    }
   ],
   "source": [
    "num_epochs = 50\n",
    "batch_size = 8\n",
    "\n",
    "for epoch in range(num_epochs):\n",
    "    # perm = torch.randperm(len(X))\n",
    "    # X = X[perm]\n",
    "    # y = y[perm]\n",
    "\n",
    "    perm = torch.randperm(len(X_train))\n",
    "    X_train = X_train[perm]\n",
    "    y_train = y_train[perm]\n",
    "\n",
    "    epoch_loss = 0\n",
    "    \n",
    "    for i in range(0, len(X_train), batch_size):\n",
    "        X_train_batch = X_train[i:i+batch_size]\n",
    "        y_train_pred = model(X_train_batch)\n",
    "        y_train_batch = y_train[i:i+batch_size]\n",
    "        loss = loss_fn(y_train_pred, y_train_batch)\n",
    "        \n",
    "        optimizer.zero_grad()\n",
    "        loss.backward()\n",
    "        optimizer.step()\n",
    "        \n",
    "        epoch_loss += loss.item()\n",
    "        \n",
    "    scheduler.step(epoch_loss)\n",
    "    \n",
    "    print(f\"Epoch {epoch+1}/{num_epochs}, Loss: {epoch_loss / len(X):.4f}\")"
   ]
  },
  {
   "cell_type": "code",
   "execution_count": 8,
   "id": "fa5fa7fc-8add-44bb-a096-f0c9de6468f6",
   "metadata": {},
   "outputs": [
    {
     "name": "stdout",
     "output_type": "stream",
     "text": [
      "Accuracy: 1.0\n"
     ]
    }
   ],
   "source": [
    "with torch.no_grad():\n",
    "    y_test_pred = model(X_test)\n",
    "\n",
    "y_test_pred_classes = torch.argmax(y_test_pred, dim=1)\n",
    "\n",
    "accuracy = (y_test_pred_classes == y_test).float().mean()\n",
    "print(f\"Accuracy: {accuracy.item()}\")"
   ]
  },
  {
   "cell_type": "code",
   "execution_count": null,
   "id": "a595b11c-d03b-4f66-84d3-bc8bea2e1b2c",
   "metadata": {},
   "outputs": [],
   "source": []
  }
 ],
 "metadata": {
  "kernelspec": {
   "display_name": "Python (ml_env)",
   "language": "python",
   "name": "ml_env"
  },
  "language_info": {
   "codemirror_mode": {
    "name": "ipython",
    "version": 3
   },
   "file_extension": ".py",
   "mimetype": "text/x-python",
   "name": "python",
   "nbconvert_exporter": "python",
   "pygments_lexer": "ipython3",
   "version": "3.9.20"
  }
 },
 "nbformat": 4,
 "nbformat_minor": 5
}
